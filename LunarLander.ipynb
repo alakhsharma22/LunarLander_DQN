{
  "nbformat": 4,
  "nbformat_minor": 0,
  "metadata": {
    "colab": {
      "provenance": []
    },
    "kernelspec": {
      "name": "python3",
      "display_name": "Python 3"
    },
    "language_info": {
      "name": "python"
    }
  },
  "cells": [
    {
      "cell_type": "markdown",
      "source": [
        "Environment setup and imports :"
      ],
      "metadata": {
        "id": "lkCyXAvvrbX7"
      }
    },
    {
      "cell_type": "code",
      "execution_count": null,
      "metadata": {
        "id": "gU4L3TpGYRj-"
      },
      "outputs": [],
      "source": [
        "import random\n",
        "import collections\n",
        "import numpy as np\n",
        "import gymnasium as gym\n",
        "import torch\n",
        "import torch.nn as nn\n",
        "import torch.nn.functional as F\n",
        "import torch.optim as optim\n",
        "\n",
        "device = torch.device(\"cuda\" if torch.cuda.is_available() else \"cpu\")\n",
        "\n",
        "ENV_NAME       = \"LunarLander-v3\"\n",
        "BUFFER_SIZE    = 100_000\n",
        "BATCH_SIZE     = 64\n",
        "GAMMA          = 0.99\n",
        "LR             = 1e-3\n",
        "EPS_START      = 1.0\n",
        "EPS_END        = 0.01\n",
        "EPS_DECAY      = 0.995\n",
        "TARGET_UPDATE  = 10\n",
        "NUM_EPISODES   = 1000\n",
        "MAX_STEPS      = 1000"
      ]
    },
    {
      "cell_type": "markdown",
      "source": [
        "NN architecture :\n",
        "\n",
        "- Inputs: 8-dimensional state\n",
        "- Hidden: two layers of 128 units with ReLU\n",
        "- utputs: 4 Q-values (one per discrete action)"
      ],
      "metadata": {
        "id": "9SxbvOtQreWI"
      }
    },
    {
      "cell_type": "code",
      "source": [
        "class QNetwork(nn.Module):\n",
        "    def __init__(self, obs_dim, act_dim, hidden_dim=128):\n",
        "        super().__init__()\n",
        "        self.net = nn.Sequential(\n",
        "            nn.Linear(obs_dim, hidden_dim),\n",
        "            nn.ReLU(),\n",
        "            nn.Linear(hidden_dim, hidden_dim),\n",
        "            nn.ReLU(),\n",
        "            nn.Linear(hidden_dim, act_dim)\n",
        "        )\n",
        "\n",
        "    def forward(self, x):\n",
        "        return self.net(x)"
      ],
      "metadata": {
        "id": "ECCagy6CYYdP"
      },
      "execution_count": null,
      "outputs": []
    },
    {
      "cell_type": "code",
      "source": [
        "!pip install swig\n",
        "!pip install \"gymnasium[box2d]\""
      ],
      "metadata": {
        "colab": {
          "base_uri": "https://localhost:8080/"
        },
        "id": "CgAWmLTNYidX",
        "outputId": "44e0d0a1-78e4-4cca-a435-6aa613691c46"
      },
      "execution_count": null,
      "outputs": [
        {
          "output_type": "stream",
          "name": "stdout",
          "text": [
            "Requirement already satisfied: swig in /usr/local/lib/python3.11/dist-packages (4.3.1)\n",
            "Requirement already satisfied: gymnasium[box2d] in /usr/local/lib/python3.11/dist-packages (1.2.0)\n",
            "Requirement already satisfied: numpy>=1.21.0 in /usr/local/lib/python3.11/dist-packages (from gymnasium[box2d]) (2.0.2)\n",
            "Requirement already satisfied: cloudpickle>=1.2.0 in /usr/local/lib/python3.11/dist-packages (from gymnasium[box2d]) (3.1.1)\n",
            "Requirement already satisfied: typing-extensions>=4.3.0 in /usr/local/lib/python3.11/dist-packages (from gymnasium[box2d]) (4.14.0)\n",
            "Requirement already satisfied: farama-notifications>=0.0.1 in /usr/local/lib/python3.11/dist-packages (from gymnasium[box2d]) (0.0.4)\n",
            "Requirement already satisfied: box2d-py==2.3.5 in /usr/local/lib/python3.11/dist-packages (from gymnasium[box2d]) (2.3.5)\n",
            "Requirement already satisfied: pygame>=2.1.3 in /usr/local/lib/python3.11/dist-packages (from gymnasium[box2d]) (2.6.1)\n",
            "Requirement already satisfied: swig==4.* in /usr/local/lib/python3.11/dist-packages (from gymnasium[box2d]) (4.3.1)\n"
          ]
        }
      ]
    },
    {
      "cell_type": "markdown",
      "source": [
        "Training loop : (Reward > 200 is considered a solution)"
      ],
      "metadata": {
        "id": "di-joL8nrhzO"
      }
    },
    {
      "cell_type": "code",
      "source": [
        "Transition = collections.namedtuple('Transition',\n",
        "    ['state', 'action', 'reward', 'next_state', 'done'])\n",
        "\n",
        "class ReplayBuffer:\n",
        "    def __init__(self, capacity):\n",
        "        self.buffer = collections.deque(maxlen=capacity)\n",
        "\n",
        "    def push(self, *args):\n",
        "        self.buffer.append(Transition(*args))\n",
        "\n",
        "    def sample(self, batch_size):\n",
        "        batch = random.sample(self.buffer, batch_size)\n",
        "        return Transition(*zip(*batch))\n",
        "\n",
        "    def __len__(self):\n",
        "        return len(self.buffer)\n",
        "\n",
        "env = gym.make(ENV_NAME)\n",
        "obs_dim  = env.observation_space.shape[0]\n",
        "act_dim  = env.action_space.n\n",
        "\n",
        "policy_net = QNetwork(obs_dim, act_dim).to(device)\n",
        "target_net = QNetwork(obs_dim, act_dim).to(device)\n",
        "target_net.load_state_dict(policy_net.state_dict())\n",
        "target_net.eval()\n",
        "\n",
        "optimizer = optim.Adam(policy_net.parameters(), lr=LR)\n",
        "buffer    = ReplayBuffer(BUFFER_SIZE)\n",
        "\n",
        "eps = EPS_START\n",
        "episode_rewards = []\n",
        "\n",
        "for ep in range(1, NUM_EPISODES+1):\n",
        "    state, _ = env.reset()\n",
        "    total_reward = 0\n",
        "\n",
        "    for t in range(MAX_STEPS):\n",
        "        if random.random() < eps:\n",
        "            action = env.action_space.sample()\n",
        "        else:\n",
        "            with torch.no_grad():\n",
        "                qs = policy_net(torch.FloatTensor(state).unsqueeze(0).to(device))\n",
        "                action = qs.argmax(dim=1).item()\n",
        "\n",
        "        next_state, reward, terminated, truncated, _ = env.step(action)\n",
        "        done = terminated or truncated\n",
        "        buffer.push(state, action, reward, next_state, done)\n",
        "        state = next_state\n",
        "        total_reward += reward\n",
        "\n",
        "        if len(buffer) >= BATCH_SIZE:\n",
        "            batch = buffer.sample(BATCH_SIZE)\n",
        "            s      = torch.FloatTensor(batch.state).to(device)\n",
        "            a      = torch.LongTensor(batch.action).unsqueeze(1).to(device)\n",
        "            r      = torch.FloatTensor(batch.reward).unsqueeze(1).to(device)\n",
        "            s_next = torch.FloatTensor(batch.next_state).to(device)\n",
        "            d      = torch.FloatTensor(batch.done).unsqueeze(1).to(device)\n",
        "\n",
        "            q_values      = policy_net(s).gather(1, a)\n",
        "            with torch.no_grad():\n",
        "                next_q_values = target_net(s_next).max(1, keepdim=True)[0]\n",
        "                target_q = r + GAMMA * next_q_values * (1 - d)\n",
        "\n",
        "            loss = F.mse_loss(q_values, target_q)\n",
        "\n",
        "            optimizer.zero_grad()\n",
        "            loss.backward()\n",
        "            nn.utils.clip_grad_norm_(policy_net.parameters(), max_norm=1.0)\n",
        "            optimizer.step()\n",
        "\n",
        "        if done:\n",
        "            break\n",
        "\n",
        "    episode_rewards.append(total_reward)\n",
        "    eps = max(EPS_END, EPS_DECAY * eps)\n",
        "\n",
        "    if ep % TARGET_UPDATE == 0:\n",
        "        target_net.load_state_dict(policy_net.state_dict())\n",
        "\n",
        "    if ep % 10 == 0:\n",
        "        avg_r = np.mean(episode_rewards[-10:])\n",
        "        print(f\"Ep {ep:03d} | Avg10R: {avg_r:.1f} | ε: {eps:.2f}\")"
      ],
      "metadata": {
        "colab": {
          "base_uri": "https://localhost:8080/"
        },
        "id": "wGLY4rKHYcCM",
        "outputId": "f1a5a5be-31b2-46be-a354-ecdb768bae00"
      },
      "execution_count": null,
      "outputs": [
        {
          "output_type": "stream",
          "name": "stdout",
          "text": [
            "Ep 010 | Avg10R: -158.2 | ε: 0.95\n",
            "Ep 020 | Avg10R: -173.6 | ε: 0.90\n",
            "Ep 030 | Avg10R: -122.1 | ε: 0.86\n",
            "Ep 040 | Avg10R: -124.6 | ε: 0.82\n",
            "Ep 050 | Avg10R: -110.1 | ε: 0.78\n",
            "Ep 060 | Avg10R: -112.6 | ε: 0.74\n",
            "Ep 070 | Avg10R: -94.4 | ε: 0.70\n",
            "Ep 080 | Avg10R: -80.9 | ε: 0.67\n",
            "Ep 090 | Avg10R: -134.4 | ε: 0.64\n",
            "Ep 100 | Avg10R: -98.7 | ε: 0.61\n",
            "Ep 110 | Avg10R: -54.4 | ε: 0.58\n",
            "Ep 120 | Avg10R: -49.2 | ε: 0.55\n",
            "Ep 130 | Avg10R: -34.5 | ε: 0.52\n",
            "Ep 140 | Avg10R: -26.2 | ε: 0.50\n",
            "Ep 150 | Avg10R: -32.0 | ε: 0.47\n",
            "Ep 160 | Avg10R: -23.8 | ε: 0.45\n",
            "Ep 170 | Avg10R: -1.8 | ε: 0.43\n",
            "Ep 180 | Avg10R: 27.8 | ε: 0.41\n",
            "Ep 190 | Avg10R: -14.2 | ε: 0.39\n",
            "Ep 200 | Avg10R: 23.2 | ε: 0.37\n",
            "Ep 210 | Avg10R: -6.7 | ε: 0.35\n",
            "Ep 220 | Avg10R: -45.9 | ε: 0.33\n",
            "Ep 230 | Avg10R: 54.7 | ε: 0.32\n",
            "Ep 240 | Avg10R: -0.8 | ε: 0.30\n",
            "Ep 250 | Avg10R: 4.2 | ε: 0.29\n",
            "Ep 260 | Avg10R: 33.7 | ε: 0.27\n",
            "Ep 270 | Avg10R: 48.8 | ε: 0.26\n",
            "Ep 280 | Avg10R: 44.2 | ε: 0.25\n",
            "Ep 290 | Avg10R: 90.5 | ε: 0.23\n",
            "Ep 300 | Avg10R: 63.5 | ε: 0.22\n",
            "Ep 310 | Avg10R: 145.7 | ε: 0.21\n",
            "Ep 320 | Avg10R: 111.1 | ε: 0.20\n",
            "Ep 330 | Avg10R: 102.7 | ε: 0.19\n",
            "Ep 340 | Avg10R: 63.4 | ε: 0.18\n",
            "Ep 350 | Avg10R: 104.0 | ε: 0.17\n",
            "Ep 360 | Avg10R: 67.9 | ε: 0.16\n",
            "Ep 370 | Avg10R: 4.2 | ε: 0.16\n",
            "Ep 380 | Avg10R: 66.0 | ε: 0.15\n",
            "Ep 390 | Avg10R: 73.5 | ε: 0.14\n",
            "Ep 400 | Avg10R: 48.0 | ε: 0.13\n",
            "Ep 410 | Avg10R: 54.1 | ε: 0.13\n",
            "Ep 420 | Avg10R: 111.1 | ε: 0.12\n",
            "Ep 430 | Avg10R: 132.0 | ε: 0.12\n",
            "Ep 440 | Avg10R: 95.4 | ε: 0.11\n",
            "Ep 450 | Avg10R: 130.2 | ε: 0.10\n",
            "Ep 460 | Avg10R: 182.7 | ε: 0.10\n",
            "Ep 470 | Avg10R: 110.1 | ε: 0.09\n",
            "Ep 480 | Avg10R: 73.9 | ε: 0.09\n",
            "Ep 490 | Avg10R: 115.3 | ε: 0.09\n",
            "Ep 500 | Avg10R: 105.1 | ε: 0.08\n",
            "Ep 510 | Avg10R: 59.7 | ε: 0.08\n",
            "Ep 520 | Avg10R: 49.4 | ε: 0.07\n",
            "Ep 530 | Avg10R: 83.0 | ε: 0.07\n",
            "Ep 540 | Avg10R: 165.0 | ε: 0.07\n",
            "Ep 550 | Avg10R: 149.7 | ε: 0.06\n",
            "Ep 560 | Avg10R: 173.7 | ε: 0.06\n",
            "Ep 570 | Avg10R: 120.4 | ε: 0.06\n",
            "Ep 580 | Avg10R: 184.6 | ε: 0.05\n",
            "Ep 590 | Avg10R: 142.1 | ε: 0.05\n",
            "Ep 600 | Avg10R: 142.4 | ε: 0.05\n",
            "Ep 610 | Avg10R: 162.7 | ε: 0.05\n",
            "Ep 620 | Avg10R: 160.2 | ε: 0.04\n",
            "Ep 630 | Avg10R: 62.6 | ε: 0.04\n",
            "Ep 640 | Avg10R: 80.3 | ε: 0.04\n",
            "Ep 650 | Avg10R: 90.4 | ε: 0.04\n",
            "Ep 660 | Avg10R: 34.6 | ε: 0.04\n",
            "Ep 670 | Avg10R: 41.4 | ε: 0.03\n",
            "Ep 680 | Avg10R: 127.8 | ε: 0.03\n",
            "Ep 690 | Avg10R: 129.0 | ε: 0.03\n",
            "Ep 700 | Avg10R: 162.1 | ε: 0.03\n",
            "Ep 710 | Avg10R: 65.6 | ε: 0.03\n",
            "Ep 720 | Avg10R: 82.7 | ε: 0.03\n",
            "Ep 730 | Avg10R: 82.3 | ε: 0.03\n",
            "Ep 740 | Avg10R: 118.9 | ε: 0.02\n",
            "Ep 750 | Avg10R: -30.3 | ε: 0.02\n",
            "Ep 760 | Avg10R: 112.7 | ε: 0.02\n",
            "Ep 770 | Avg10R: 80.5 | ε: 0.02\n",
            "Ep 780 | Avg10R: 58.9 | ε: 0.02\n",
            "Ep 790 | Avg10R: 193.8 | ε: 0.02\n",
            "Ep 800 | Avg10R: 6.0 | ε: 0.02\n",
            "Ep 810 | Avg10R: 42.6 | ε: 0.02\n",
            "Ep 820 | Avg10R: 115.8 | ε: 0.02\n",
            "Ep 830 | Avg10R: 93.8 | ε: 0.02\n",
            "Ep 840 | Avg10R: 155.0 | ε: 0.01\n",
            "Ep 850 | Avg10R: 96.1 | ε: 0.01\n",
            "Ep 860 | Avg10R: 215.9 | ε: 0.01\n",
            "Ep 870 | Avg10R: 97.7 | ε: 0.01\n",
            "Ep 880 | Avg10R: 119.9 | ε: 0.01\n",
            "Ep 890 | Avg10R: 203.6 | ε: 0.01\n",
            "Ep 900 | Avg10R: 208.7 | ε: 0.01\n",
            "Ep 910 | Avg10R: 240.8 | ε: 0.01\n",
            "Ep 920 | Avg10R: 248.8 | ε: 0.01\n",
            "Ep 930 | Avg10R: 172.1 | ε: 0.01\n",
            "Ep 940 | Avg10R: 213.3 | ε: 0.01\n",
            "Ep 950 | Avg10R: 154.6 | ε: 0.01\n",
            "Ep 960 | Avg10R: 216.3 | ε: 0.01\n",
            "Ep 970 | Avg10R: 217.8 | ε: 0.01\n",
            "Ep 980 | Avg10R: 238.5 | ε: 0.01\n",
            "Ep 990 | Avg10R: 239.6 | ε: 0.01\n",
            "Ep 1000 | Avg10R: 170.4 | ε: 0.01\n"
          ]
        }
      ]
    },
    {
      "cell_type": "markdown",
      "source": [
        "Testing and evaluation :\n",
        "- Metrics:\n",
        " - Average return over test episodes\n",
        " - Std deviation to gauge stability"
      ],
      "metadata": {
        "id": "TIJmtz_UrlmC"
      }
    },
    {
      "cell_type": "code",
      "source": [
        "policy_net.eval()\n",
        "\n",
        "test_rewards = []\n",
        "NUM_TEST = 20\n",
        "for _ in range(NUM_TEST):\n",
        "    state, _ = env.reset()\n",
        "    total_r = 0\n",
        "    done = False\n",
        "    while not done:\n",
        "        with torch.no_grad():\n",
        "            q    = policy_net(torch.FloatTensor(state).unsqueeze(0).to(device))\n",
        "            action = q.argmax(dim=1).item()\n",
        "        state, reward, terminated, truncated, _ = env.step(action)\n",
        "        done = terminated or truncated\n",
        "        total_r += reward\n",
        "    test_rewards.append(total_r)\n",
        "\n",
        "print(f\"Test over {NUM_TEST} episodes: \"\n",
        "      f\"mean={np.mean(test_rewards):.1f}, \"\n",
        "      f\"std={np.std(test_rewards):.1f}\")"
      ],
      "metadata": {
        "colab": {
          "base_uri": "https://localhost:8080/"
        },
        "id": "Sl6Sx8UgYfOJ",
        "outputId": "cdff3280-90c4-49f6-a456-d6a59b7eca79"
      },
      "execution_count": null,
      "outputs": [
        {
          "output_type": "stream",
          "name": "stdout",
          "text": [
            "Test over 20 episodes: mean=267.4, std=34.4\n"
          ]
        }
      ]
    },
    {
      "cell_type": "code",
      "source": [
        "import imageio\n",
        "import gymnasium as gym\n",
        "import torch\n",
        "import numpy as np\n",
        "\n",
        "test_env = gym.make(ENV_NAME, render_mode=\"rgb_array\")\n",
        "policy_net.eval()\n",
        "\n",
        "frames = []\n",
        "state, _ = test_env.reset(seed=42)\n",
        "done = False\n",
        "while not done:\n",
        "    with torch.no_grad():\n",
        "        q_vals = policy_net(torch.FloatTensor(state).unsqueeze(0).to(device))\n",
        "        action = q_vals.argmax(dim=1).item()\n",
        "    state, reward, terminated, truncated, _ = test_env.step(action)\n",
        "    done = terminated or truncated\n",
        "    frame = test_env.render()\n",
        "    frames.append(frame)\n",
        "\n",
        "test_env.close()\n",
        "\n",
        "gif_path = \"lunarlander_test.gif\"\n",
        "imageio.mimsave(gif_path, frames, fps=30)\n",
        "\n",
        "print(f\"Saved test run GIF → {gif_path}\")"
      ],
      "metadata": {
        "colab": {
          "base_uri": "https://localhost:8080/"
        },
        "id": "WgL5Fkofd3Ly",
        "outputId": "5aaff9a7-401a-47f5-af70-4b7fa15e5823"
      },
      "execution_count": null,
      "outputs": [
        {
          "output_type": "stream",
          "name": "stdout",
          "text": [
            "Saved test run GIF → lunarlander_test.gif\n"
          ]
        }
      ]
    },
    {
      "cell_type": "code",
      "source": [],
      "metadata": {
        "id": "kf3_imI4eOdb"
      },
      "execution_count": null,
      "outputs": []
    }
  ]
}